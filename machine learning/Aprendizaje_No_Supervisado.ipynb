{
  "nbformat": 4,
  "nbformat_minor": 0,
  "metadata": {
    "colab": {
      "provenance": []
    },
    "kernelspec": {
      "name": "python3",
      "display_name": "Python 3"
    },
    "language_info": {
      "name": "python"
    }
  },
  "cells": [
    {
      "cell_type": "markdown",
      "source": [
        "# Aprendizaje No Supervisado\n",
        "\n",
        "Durante la primera fase del trabajo se evaluó el desempeño de distintos modelos sobre el dataset resumido a nivel de video con un total de 957 observaciones, en el cual cada registro representaba características agregadas del conjunto de frames pertenecientes a un mismo clip. Si bien este enfoque permitió obtener una visión general del comportamiento promedio de cada video, se identificaron limitaciones importantes para la detección precisa de anomalías.\n",
        "\n",
        "Inicialmente, se realizaron pruebas usando el dataset a nivel de video, pero los resultados obtenidos mostraron un recall demasiado bajo, incluso tras ajustar los principales hiperparametros del modelo. Esto debido a que el dataset de videos contenía pocas observaciones y a que la agregación de los valores por clip diluía la presencia de comportamientos anómalos locales dentro de la información general.\n",
        "\n",
        "Entonces se decidió migrar el análisis al nivel de frame individual, de este modo cada frame se considera una observación independiente, lo que permite preservar el detalle de cada uno de las escenas. Este cambio de enfoque aumenta significativamente la cantidad de datos disponibles (de solo tener menos de mil videos a más de 400 000 frames), dando al modelo una mayor base para aprender patrones normales y detectar outliers con más precisión.\n",
        "\n",
        "Se usaran dos algoritmos muy usados para la detección de anomalías uno de ellos es Isolation Forest y el otro es DBSCAN seran evaluados para que el F1-Score este lo más alto posible. Siempre teniendo en cuenta que priorizaremos el recall sobre la precision.\n"
      ],
      "metadata": {
        "id": "8719cxQeIsQW"
      }
    },
    {
      "cell_type": "markdown",
      "source": [
        "## **Preprocesamiento de los datos**"
      ],
      "metadata": {
        "id": "7Zo2iq7RMs3t"
      }
    },
    {
      "cell_type": "code",
      "source": [
        "import pandas as pd\n",
        "import seaborn as sns\n",
        "import matplotlib.pyplot as plt\n",
        "import numpy as np\n",
        "\n",
        "# Trayendo la data\n",
        "data = pd.read_csv(\"dataframe_frames.csv\")\n",
        "data.head(1)"
      ],
      "metadata": {
        "colab": {
          "base_uri": "https://localhost:8080/",
          "height": 182
        },
        "id": "OpcYy8zsTMcI",
        "outputId": "4697383a-84fd-4bb6-bd0a-6fe6ff433438"
      },
      "execution_count": 3,
      "outputs": [
        {
          "output_type": "stream",
          "name": "stderr",
          "text": [
            "/tmp/ipython-input-2734600309.py:7: DtypeWarning: Columns (20) have mixed types. Specify dtype option on import or set low_memory=False.\n",
            "  data = pd.read_csv(\"dataframe_frames.csv\")\n"
          ]
        },
        {
          "output_type": "execute_result",
          "data": {
            "text/plain": [
              "   frame_number frame_filename       left  top      right    bottom  \\\n",
              "0            17   frame_17.jpg  111.24295  0.0  128.81424  36.87331   \n",
              "\n",
              "   confidence  class_id     width    height  ...  has_motorcycle  has_bus  \\\n",
              "0    0.465824       0.0  17.57129  36.87331  ...               1        0   \n",
              "\n",
              "   has_backpack  has_handbag  has_suitcase  has_knife  has_laptop  \\\n",
              "0             0            0             0          0           0   \n",
              "\n",
              "   has_cell phone  video_detection_rate video_avg_persons  \n",
              "0               0              0.842932          3.146597  \n",
              "\n",
              "[1 rows x 35 columns]"
            ],
            "text/html": [
              "\n",
              "  <div id=\"df-58275f6e-20b8-4762-be62-f702c8344230\" class=\"colab-df-container\">\n",
              "    <div>\n",
              "<style scoped>\n",
              "    .dataframe tbody tr th:only-of-type {\n",
              "        vertical-align: middle;\n",
              "    }\n",
              "\n",
              "    .dataframe tbody tr th {\n",
              "        vertical-align: top;\n",
              "    }\n",
              "\n",
              "    .dataframe thead th {\n",
              "        text-align: right;\n",
              "    }\n",
              "</style>\n",
              "<table border=\"1\" class=\"dataframe\">\n",
              "  <thead>\n",
              "    <tr style=\"text-align: right;\">\n",
              "      <th></th>\n",
              "      <th>frame_number</th>\n",
              "      <th>frame_filename</th>\n",
              "      <th>left</th>\n",
              "      <th>top</th>\n",
              "      <th>right</th>\n",
              "      <th>bottom</th>\n",
              "      <th>confidence</th>\n",
              "      <th>class_id</th>\n",
              "      <th>width</th>\n",
              "      <th>height</th>\n",
              "      <th>...</th>\n",
              "      <th>has_motorcycle</th>\n",
              "      <th>has_bus</th>\n",
              "      <th>has_backpack</th>\n",
              "      <th>has_handbag</th>\n",
              "      <th>has_suitcase</th>\n",
              "      <th>has_knife</th>\n",
              "      <th>has_laptop</th>\n",
              "      <th>has_cell phone</th>\n",
              "      <th>video_detection_rate</th>\n",
              "      <th>video_avg_persons</th>\n",
              "    </tr>\n",
              "  </thead>\n",
              "  <tbody>\n",
              "    <tr>\n",
              "      <th>0</th>\n",
              "      <td>17</td>\n",
              "      <td>frame_17.jpg</td>\n",
              "      <td>111.24295</td>\n",
              "      <td>0.0</td>\n",
              "      <td>128.81424</td>\n",
              "      <td>36.87331</td>\n",
              "      <td>0.465824</td>\n",
              "      <td>0.0</td>\n",
              "      <td>17.57129</td>\n",
              "      <td>36.87331</td>\n",
              "      <td>...</td>\n",
              "      <td>1</td>\n",
              "      <td>0</td>\n",
              "      <td>0</td>\n",
              "      <td>0</td>\n",
              "      <td>0</td>\n",
              "      <td>0</td>\n",
              "      <td>0</td>\n",
              "      <td>0</td>\n",
              "      <td>0.842932</td>\n",
              "      <td>3.146597</td>\n",
              "    </tr>\n",
              "  </tbody>\n",
              "</table>\n",
              "<p>1 rows × 35 columns</p>\n",
              "</div>\n",
              "    <div class=\"colab-df-buttons\">\n",
              "\n",
              "  <div class=\"colab-df-container\">\n",
              "    <button class=\"colab-df-convert\" onclick=\"convertToInteractive('df-58275f6e-20b8-4762-be62-f702c8344230')\"\n",
              "            title=\"Convert this dataframe to an interactive table.\"\n",
              "            style=\"display:none;\">\n",
              "\n",
              "  <svg xmlns=\"http://www.w3.org/2000/svg\" height=\"24px\" viewBox=\"0 -960 960 960\">\n",
              "    <path d=\"M120-120v-720h720v720H120Zm60-500h600v-160H180v160Zm220 220h160v-160H400v160Zm0 220h160v-160H400v160ZM180-400h160v-160H180v160Zm440 0h160v-160H620v160ZM180-180h160v-160H180v160Zm440 0h160v-160H620v160Z\"/>\n",
              "  </svg>\n",
              "    </button>\n",
              "\n",
              "  <style>\n",
              "    .colab-df-container {\n",
              "      display:flex;\n",
              "      gap: 12px;\n",
              "    }\n",
              "\n",
              "    .colab-df-convert {\n",
              "      background-color: #E8F0FE;\n",
              "      border: none;\n",
              "      border-radius: 50%;\n",
              "      cursor: pointer;\n",
              "      display: none;\n",
              "      fill: #1967D2;\n",
              "      height: 32px;\n",
              "      padding: 0 0 0 0;\n",
              "      width: 32px;\n",
              "    }\n",
              "\n",
              "    .colab-df-convert:hover {\n",
              "      background-color: #E2EBFA;\n",
              "      box-shadow: 0px 1px 2px rgba(60, 64, 67, 0.3), 0px 1px 3px 1px rgba(60, 64, 67, 0.15);\n",
              "      fill: #174EA6;\n",
              "    }\n",
              "\n",
              "    .colab-df-buttons div {\n",
              "      margin-bottom: 4px;\n",
              "    }\n",
              "\n",
              "    [theme=dark] .colab-df-convert {\n",
              "      background-color: #3B4455;\n",
              "      fill: #D2E3FC;\n",
              "    }\n",
              "\n",
              "    [theme=dark] .colab-df-convert:hover {\n",
              "      background-color: #434B5C;\n",
              "      box-shadow: 0px 1px 3px 1px rgba(0, 0, 0, 0.15);\n",
              "      filter: drop-shadow(0px 1px 2px rgba(0, 0, 0, 0.3));\n",
              "      fill: #FFFFFF;\n",
              "    }\n",
              "  </style>\n",
              "\n",
              "    <script>\n",
              "      const buttonEl =\n",
              "        document.querySelector('#df-58275f6e-20b8-4762-be62-f702c8344230 button.colab-df-convert');\n",
              "      buttonEl.style.display =\n",
              "        google.colab.kernel.accessAllowed ? 'block' : 'none';\n",
              "\n",
              "      async function convertToInteractive(key) {\n",
              "        const element = document.querySelector('#df-58275f6e-20b8-4762-be62-f702c8344230');\n",
              "        const dataTable =\n",
              "          await google.colab.kernel.invokeFunction('convertToInteractive',\n",
              "                                                    [key], {});\n",
              "        if (!dataTable) return;\n",
              "\n",
              "        const docLinkHtml = 'Like what you see? Visit the ' +\n",
              "          '<a target=\"_blank\" href=https://colab.research.google.com/notebooks/data_table.ipynb>data table notebook</a>'\n",
              "          + ' to learn more about interactive tables.';\n",
              "        element.innerHTML = '';\n",
              "        dataTable['output_type'] = 'display_data';\n",
              "        await google.colab.output.renderOutput(dataTable, element);\n",
              "        const docLink = document.createElement('div');\n",
              "        docLink.innerHTML = docLinkHtml;\n",
              "        element.appendChild(docLink);\n",
              "      }\n",
              "    </script>\n",
              "  </div>\n",
              "\n",
              "\n",
              "    </div>\n",
              "  </div>\n"
            ],
            "application/vnd.google.colaboratory.intrinsic+json": {
              "type": "dataframe",
              "variable_name": "data"
            }
          },
          "metadata": {},
          "execution_count": 3
        }
      ]
    },
    {
      "cell_type": "markdown",
      "source": [
        "Se uso el dataset de frames y la distribución de clases en este dataset está muy desbalanceado y se probó si esto afectaba en algo a los resultados que podríamos a obtener. Tenemos 383325 frames normales y 58897 anormales. Esto debido a que el dataset usa más videos normales que anormales para trabajar a nivel de video y aparte que los videos anómalos no contienen tantos números de frames."
      ],
      "metadata": {
        "id": "G7VYkxcK_Ox-"
      }
    },
    {
      "cell_type": "code",
      "metadata": {
        "colab": {
          "base_uri": "https://localhost:8080/",
          "height": 564
        },
        "id": "7a181800",
        "outputId": "dfbbcb6b-d857-4749-85e2-9f4b8fb2f831"
      },
      "source": [
        "y = data['label']\n",
        "\n",
        "class_counts = y.value_counts()\n",
        "\n",
        "plt.figure(figsize=(8, 6))\n",
        "sns.barplot(x=class_counts.index, y=class_counts.values)\n",
        "plt.title('Distribución de Clases')\n",
        "plt.xlabel('Clase')\n",
        "plt.ylabel('Número de Frames')\n",
        "plt.show()\n"
      ],
      "execution_count": 4,
      "outputs": [
        {
          "output_type": "display_data",
          "data": {
            "text/plain": [
              "<Figure size 800x600 with 1 Axes>"
            ],
            "image/png": "[encoded data removed]"
          },
          "metadata": {}
        }
      ]
    },
    {
      "cell_type": "markdown",
      "source": [
        "Se procedió a seguir con el procesamiento de los datos, primero eliminamos las columnas que no aportan nada a la predicción que en este caso sería: “video_name”, “video_folder”, “split”, “frame_filename”. Variables que solo permiten identificar al frame si es que se esta buscando en el dataset. Luego eliminamos nuestra variable objetivo ya que no la vamos a usar para entrenar debido a que estamos usando aprendizaje no supervisado. Después escalamos los datos con StandarScaler para luego usar PCA con esos datos escalados para la reducción de la dimensionalidad, esto para reducir el número de variables que puedan mostrar la mejor información. De las 31 variables que teníamos PCA las redujo a solo 19 y con esto teníamos los datos procesados para el entrenamiento de los algoritmos no supervisados."
      ],
      "metadata": {
        "id": "JJVUSSjq_RTv"
      }
    },
    {
      "cell_type": "code",
      "source": [
        "from sklearn.preprocessing import StandardScaler\n",
        "from sklearn.decomposition import PCA\n",
        "\n",
        "data_clean = data.drop(columns=['video_name', 'video_folder','split','frame_filename'], errors='ignore')\n",
        "\n",
        "X = data_clean.drop(columns=['label'])\n",
        "y = data_clean['label'].apply(lambda x: 1 if x == 'anomaly' else 0)\n",
        "\n",
        "scaler = StandardScaler()\n",
        "X_scaled = scaler.fit_transform(X)\n",
        "\n",
        "pca = PCA(n_components=0.95, random_state=123)\n",
        "X_pca = pca.fit_transform(X_scaled)\n",
        "\n",
        "print(\"Shape original:\", X_scaled.shape)\n",
        "print(\"Shape después de PCA:\", X_pca.shape)\n"
      ],
      "metadata": {
        "colab": {
          "base_uri": "https://localhost:8080/"
        },
        "id": "Qea5mOPiR5mV",
        "outputId": "7842e91b-ae31-4418-beb7-1cffe90db928"
      },
      "execution_count": 5,
      "outputs": [
        {
          "output_type": "stream",
          "name": "stdout",
          "text": [
            "Shape original: (442222, 31)\n",
            "Shape después de PCA: (442222, 19)\n"
          ]
        }
      ]
    },
    {
      "cell_type": "markdown",
      "source": [
        "## **Modelo 1: Isolation Forest**"
      ],
      "metadata": {
        "id": "Nt1F0F_OM2yc"
      }
    },
    {
      "cell_type": "markdown",
      "source": [
        "Se entreno con Isolation Forest tratando de maximizar el recall que es el propósito del caso de uso de videovigilancia."
      ],
      "metadata": {
        "id": "2twnn9CE_TfW"
      }
    },
    {
      "cell_type": "code",
      "metadata": {
        "colab": {
          "base_uri": "https://localhost:8080/"
        },
        "id": "9eb849a1",
        "outputId": "8773ea71-7395-4e02-bb26-9e703665c2d0"
      },
      "source": [
        "from sklearn.ensemble import IsolationForest\n",
        "from sklearn.metrics import recall_score, precision_score\n",
        "\n",
        "iso = IsolationForest(\n",
        "    n_estimators=500,\n",
        "    contamination=0.1,\n",
        "    random_state=123\n",
        ")\n",
        "iso.fit(X_pca)\n",
        "\n",
        "y_pred = iso.predict(X_pca)\n",
        "y_pred = [1 if p == -1 else 0 for p in y_pred]\n",
        "\n",
        "recall = recall_score(y, y_pred)\n",
        "print(f\"Recall: {recall:.4f}\")\n",
        "precision = precision_score(y, y_pred)\n",
        "print(f\"Precision: {precision:.4f}\")"
      ],
      "execution_count": null,
      "outputs": [
        {
          "output_type": "stream",
          "name": "stdout",
          "text": [
            "Recall: 0.1691\n",
            "Precision: 0.2252\n"
          ]
        }
      ]
    },
    {
      "cell_type": "markdown",
      "source": [
        "Como se puede observar el recall de anomalías se pudo llegar a 17% con el hiperparametro “contamination” en un 10% eso quiere decir que le estamos diciendo que el 10% de los datos son anómalos aproximadante.\n",
        "Al ver que el recall no era muy alto se tuvo que calibrar los hiperparametros, pero esta vez para la métrica F1 la cual es un balance entre recall y precision ya que por lo que se puede observar la precision también es muy baja lo que quiere decir que hay demasiadas alertas por el coste de poder predecir algunos anómalos. También se busco el mejor treshold para este mismo objetivo con la ayuda de los percentiles.\n"
      ],
      "metadata": {
        "id": "u44yZNck_Vd-"
      }
    },
    {
      "cell_type": "code",
      "source": [
        "from sklearn.ensemble import IsolationForest\n",
        "from sklearn.metrics import f1_score, classification_report\n",
        "import numpy as np\n",
        "\n",
        "iso = IsolationForest(\n",
        "    n_estimators=500,\n",
        "    contamination=0.25,\n",
        "    max_samples=0.8,\n",
        "    random_state=123\n",
        ")\n",
        "\n",
        "iso.fit(X_pca)\n",
        "scores = iso.decision_function(X_pca)\n",
        "y_true = y\n",
        "\n",
        "best_f1 = 0\n",
        "best_th = None\n",
        "best_pred = None\n",
        "\n",
        "for p in np.linspace(5, 95, 50):\n",
        "    th = np.percentile(scores, p)\n",
        "    y_pred = (scores < th).astype(int)\n",
        "    f1 = f1_score(y_true, y_pred)\n",
        "    if f1 > best_f1:\n",
        "        best_f1 = f1\n",
        "        best_th = th\n",
        "        best_pred = y_pred\n",
        "\n",
        "print(f\"Mejor F1: {best_f1:.4f} con threshold = {best_th:.4f}\")\n",
        "print(classification_report(y_true, best_pred))\n"
      ],
      "metadata": {
        "colab": {
          "base_uri": "https://localhost:8080/"
        },
        "id": "XR-xZE4mTG81",
        "outputId": "e5309d68-8746-4fc0-ee8b-524debf69d05"
      },
      "execution_count": null,
      "outputs": [
        {
          "output_type": "stream",
          "name": "stdout",
          "text": [
            "Mejor F1: 0.3672 con threshold = 0.0097\n",
            "              precision    recall  f1-score   support\n",
            "\n",
            "           0       0.93      0.70      0.80    383325\n",
            "           1       0.25      0.66      0.37     58897\n",
            "\n",
            "    accuracy                           0.70    442222\n",
            "   macro avg       0.59      0.68      0.58    442222\n",
            "weighted avg       0.84      0.70      0.74    442222\n",
            "\n"
          ]
        }
      ]
    },
    {
      "cell_type": "markdown",
      "source": [
        "\n",
        "El mejor treshold encontrado para maximizar el F1 fue 0.0097 eso quiere decir que el frame con menor score que 0.0097 será considerado anomalía (1), el resto será normal (0). Se saco la matriz de confusión para este resultado con este mejor treshold y estos fueron los resultados.\n"
      ],
      "metadata": {
        "id": "Zvnnc1Y0_XNu"
      }
    },
    {
      "cell_type": "code",
      "source": [
        "from sklearn.metrics import confusion_matrix, ConfusionMatrixDisplay\n",
        "import matplotlib.pyplot as plt\n",
        "\n",
        "# Matriz de confusión\n",
        "cm = confusion_matrix(y_true, best_pred)\n",
        "\n",
        "disp = ConfusionMatrixDisplay(confusion_matrix=cm, display_labels=[\"Normal\", \"Anomalía\"])\n",
        "disp.plot(cmap=\"Blues\", values_format=\"d\")\n",
        "plt.title(f\"Matriz de Confusión (threshold={best_th:.4f})\")\n",
        "plt.show()\n",
        "\n"
      ],
      "metadata": {
        "colab": {
          "base_uri": "https://localhost:8080/",
          "height": 472
        },
        "id": "rDrcX1s1fhIy",
        "outputId": "bb112bd0-d712-44ba-cad5-a63eab1d589d"
      },
      "execution_count": null,
      "outputs": [
        {
          "output_type": "display_data",
          "data": {
            "text/plain": [
              "<Figure size 640x480 with 2 Axes>"
            ],
            "image/png": "[encoded data removed]"
          },
          "metadata": {}
        }
      ]
    },
    {
      "cell_type": "markdown",
      "source": [
        "Se puede observar que hay demasiadas falsas alarmas y también muchos frames anómalos son detectados como normales. Esto en un sistema de videovigilancia no sería un modelo óptimo ya que la confiabilidad del sistema se vería comprometida. Se sabe que en estos casos de uso se debe priorizar una alta sensibilidad (recall) para asegurar que la mayoría de comportamientos anómalos sean identificados, incluso si eso implica aceptar un mayor número de falsos positivos. Aún así el resultado es muy alto por lo que se probó el dataset de otra manera."
      ],
      "metadata": {
        "id": "cefhJfEA_ZEW"
      }
    },
    {
      "cell_type": "code",
      "source": [
        "import numpy as np\n",
        "import pandas as pd\n",
        "from sklearn.ensemble import IsolationForest\n",
        "from sklearn.metrics import classification_report, f1_score\n",
        "\n",
        "idx_norm = np.where(y == 0)[0]\n",
        "idx_anom = np.where(y == 1)[0]\n",
        "\n",
        "ratios = [1, 2, 3]\n",
        "\n",
        "for r in ratios:\n",
        "    n_anom = len(idx_anom)\n",
        "    n_norm = min(len(idx_norm), r * n_anom)\n",
        "\n",
        "    np.random.seed(123)\n",
        "    sampled_norm_idx = np.random.choice(idx_norm, n_norm, replace=False)\n",
        "    subset_idx = np.concatenate([sampled_norm_idx, idx_anom])\n",
        "\n",
        "    X_sub = X_pca[subset_idx]\n",
        "    y_sub = y.iloc[subset_idx]\n",
        "\n",
        "    contamination = len(idx_anom) / len(subset_idx)\n",
        "\n",
        "    iso = IsolationForest(\n",
        "        n_estimators=500,\n",
        "        contamination=contamination,\n",
        "        random_state=123\n",
        "    )\n",
        "    iso.fit(X_sub)\n",
        "\n",
        "    scores = iso.decision_function(X_sub)\n",
        "\n",
        "    best_f1 = 0\n",
        "    best_th = None\n",
        "    best_pred = None\n",
        "\n",
        "    for p in np.linspace(5, 95, 50):\n",
        "        th = np.percentile(scores, p)\n",
        "        y_pred = (scores < th).astype(int)\n",
        "        f1 = f1_score(y_sub, y_pred)\n",
        "        if f1 > best_f1:\n",
        "            best_f1 = f1\n",
        "            best_th = th\n",
        "            best_pred = y_pred\n",
        "\n",
        "    print(f\"\\n Ratio normales:anom = {r}:1  -> Best F1: {best_f1:.4f} (threshold={best_th:.4f})\")\n",
        "    print(f\"Entrenando con {len(X_sub)} muestras ({len(sampled_norm_idx)} normales + {len(idx_anom)} anomalías)\")\n",
        "    print(classification_report(y_sub, best_pred))\n",
        "\n"
      ],
      "metadata": {
        "colab": {
          "base_uri": "https://localhost:8080/"
        },
        "id": "qFv2USEOh4bC",
        "outputId": "61cb7de5-2276-425a-98b0-6b02c3214db0"
      },
      "execution_count": null,
      "outputs": [
        {
          "output_type": "stream",
          "name": "stdout",
          "text": [
            "\n",
            " Ratio normales:anom = 1:1  -> Best F1: 0.6870 (threshold=0.0274)\n",
            "Entrenando con 117794 muestras (58897 normales + 58897 anomalías)\n",
            "              precision    recall  f1-score   support\n",
            "\n",
            "           0       0.73      0.29      0.41     58897\n",
            "           1       0.56      0.90      0.69     58897\n",
            "\n",
            "    accuracy                           0.59    117794\n",
            "   macro avg       0.65      0.59      0.55    117794\n",
            "weighted avg       0.65      0.59      0.55    117794\n",
            "\n",
            "\n",
            " Ratio normales:anom = 2:1  -> Best F1: 0.5710 (threshold=0.0338)\n",
            "Entrenando con 176691 muestras (117794 normales + 58897 anomalías)\n",
            "              precision    recall  f1-score   support\n",
            "\n",
            "           0       0.85      0.46      0.60    117794\n",
            "           1       0.43      0.83      0.57     58897\n",
            "\n",
            "    accuracy                           0.58    176691\n",
            "   macro avg       0.64      0.65      0.58    176691\n",
            "weighted avg       0.71      0.58      0.59    176691\n",
            "\n",
            "\n",
            " Ratio normales:anom = 3:1  -> Best F1: 0.5006 (threshold=0.0351)\n",
            "Entrenando con 235588 muestras (176691 normales + 58897 anomalías)\n",
            "              precision    recall  f1-score   support\n",
            "\n",
            "           0       0.87      0.59      0.71    176691\n",
            "           1       0.38      0.74      0.50     58897\n",
            "\n",
            "    accuracy                           0.63    235588\n",
            "   macro avg       0.63      0.67      0.60    235588\n",
            "weighted avg       0.75      0.63      0.65    235588\n",
            "\n"
          ]
        }
      ]
    },
    {
      "cell_type": "markdown",
      "source": [
        "## **Conclusiones de Isolation Forest**\n",
        "\n",
        "A continuación, se muestran los resultados obtenidos al aplicar la función antes mostrada para diferentes proporciones entre frames.\n",
        "\n",
        "Como se observa, cuando el dataset se balancea completamente (ratio 1:1), el modelo alcanza su mayor recall (90%), lo cual indica que logra detectar la mayoría de los frames anómalos. Sin embargo, esto ocurre a costa de un descenso de precision, generando una cantidad de falsas alarmas como era de esperarse.\n",
        "\n",
        "Luego al incrementar la proporción de frames normales (ratios 2:1 y 3:1), la precisión mejora gradualmente, pero el recall disminuye. Esto confirma que el balance de clases influye directamente en el desempeño del Isolation Forest, afectando la sensibilidad del modelo frente a eventos anómalos.\n",
        "\n",
        "Para esta parte del trabajo se implementó un enfoque no supervisado para la detección de anomalías en video utilizando el algoritmo Isolation Forest trabajado con los features que devuelve YOLO, tomando como referencia el estudio “Anomaly Detection in Video Surveillance Using YOLOv8”. Si bien en dicho reporte se consigue un desempeño sobresaliente sobre un conjunto de clips preprocesados y equilibrados, en este caso el dataset empleado presentó un fuerte desbalanceo de clases, con una proporción aproximada de 6.5:1 entre frames normales y anómalos.\n",
        "Con estas pruebas se pudo demostrar que, aunque Isolation Forest mostró cierto potencial bajo condiciones balanceadas, su rendimiento en escenarios reales (donde predominan los eventos normales) resulta limitado. Es por ello que en el paper de referencia recomienda estrategias complementarias como reajuste de umbrales, muestreo balanceado o el uso de modelo híbridos supervisados.\n"
      ],
      "metadata": {
        "id": "jMOkUtp7_itv"
      }
    },
    {
      "cell_type": "markdown",
      "source": [
        "## **Modelo 2: DBSCAN**"
      ],
      "metadata": {
        "id": "OnGRX9kEM869"
      }
    },
    {
      "cell_type": "markdown",
      "source": [
        "Se empleará el algoritmo DBSCAN con el propósito de detectar patrones inusuales en las características obtenidas por YOLO. A diferencia de Isolation Forest, DBSCAN permite identificar grupos de frames similares según su densidad en el espacio de características, esto sin requerir especificar previamente el número de grupos. Este enfoque se centra en utilizar DBSCAN como una herramienta no supervisada para separar los frames que presentan comportamientos normales de los posibles frames anómalos, que se ubican en zonas menos densas y son tratados como ruido por el modelo.\n",
        "\n",
        "Al aplicar DBSCAN en este contexto es evaluar si este método logra una mejor identificación de frames anómalos en comparación con modelos previos como Isolation Forest, especialmente considerando el fuerte desbalanceo de clases presente en el dataset y la naturaleza no lineal de los datos extraídos mediante PCA.\n",
        "\n",
        "Se intento primero con un conjunto de parámetros iniciales (eps = 0.5 y min_samples = 10) como punto de partida para observar el comportamiento del algoritmo sobre el dataset de frames. Estos valores permiten evaluar si el método logra identificar correctamente grupos densos de frames normales y distinguir aquellos considerados anómalos. A partir de estos resultados iniciales, se puede ajustar gradualmente los parámetros para mejorar la detección de anomalías.\n"
      ],
      "metadata": {
        "id": "qR-KDmAM_3de"
      }
    },
    {
      "cell_type": "code",
      "source": [
        "from sklearn.cluster import DBSCAN\n",
        "from sklearn.metrics import classification_report, f1_score\n",
        "import numpy as np\n",
        "\n",
        "dbscan = DBSCAN(eps=0.5, min_samples=10, n_jobs=-1)\n",
        "dbscan.fit(X_pca)\n",
        "y_pred = (dbscan.labels_ == -1).astype(int)\n",
        "\n",
        "y_true = y.values\n",
        "\n",
        "print(classification_report(y_true, y_pred))\n",
        "print(f\"F1-score: {f1_score(y_true, y_pred):.4f}\")\n",
        "\n",
        "print(f\"Clusters encontrados: {len(set(dbscan.labels_)) - (1 if -1 in dbscan.labels_ else 0)}\")\n",
        "print(f\"Anomalías detectadas: {sum(y_pred)} de {len(y_pred)} muestras\")"
      ],
      "metadata": {
        "colab": {
          "base_uri": "https://localhost:8080/"
        },
        "id": "6N94f71pse92",
        "outputId": "89f0c5a0-065c-42f9-fbbc-789121dbfcd2"
      },
      "execution_count": 9,
      "outputs": [
        {
          "output_type": "stream",
          "name": "stdout",
          "text": [
            "              precision    recall  f1-score   support\n",
            "\n",
            "           0       0.96      0.33      0.49    383325\n",
            "           1       0.17      0.92      0.29     58897\n",
            "\n",
            "    accuracy                           0.40    442222\n",
            "   macro avg       0.57      0.62      0.39    442222\n",
            "weighted avg       0.86      0.40      0.46    442222\n",
            "\n",
            "F1-score: 0.2906\n",
            "Clusters encontrados: 1496\n",
            "Anomalías detectadas: 312569 de 442222 muestras\n"
          ]
        }
      ]
    },
    {
      "cell_type": "markdown",
      "source": [
        "Como se puede observar con estos primeros parámetros iniciales, se observa un bajo desempeño general del modelo, con un F1-score de 0.29. Por lo que se puede ver el algoritmo logra detectar una gran cantidad de anomalías (más de 300 000), pero la mayoría corresponden a falsas alarmas, por lo que se ve con una alta precision para la clase normal pero un recall muy alto en la clase anómala."
      ],
      "metadata": {
        "id": "2cRsHiLp_7Av"
      }
    },
    {
      "cell_type": "code",
      "source": [
        "for eps in [0.7, 1.0, 1.3]:\n",
        "    for min_s in [5, 10, 20]:\n",
        "        db = DBSCAN(eps=eps, min_samples=min_s, n_jobs=-1).fit(X_pca)\n",
        "        y_pred = (db.labels_ == -1).astype(int)\n",
        "        print(f\"eps={eps}, min_samples={min_s} -> F1={f1_score(y, y_pred):.4f}\")\n"
      ],
      "metadata": {
        "colab": {
          "base_uri": "https://localhost:8080/"
        },
        "id": "r2MtMHQ7Ijfc",
        "outputId": "1a0f8a66-e34c-47b0-a7a9-ec25d9ce98dc"
      },
      "execution_count": null,
      "outputs": [
        {
          "output_type": "stream",
          "name": "stdout",
          "text": [
            "eps=0.7, min_samples=5 -> F1=0.3936\n",
            "eps=0.7, min_samples=10 -> F1=0.3888\n",
            "eps=0.7, min_samples=20 -> F1=0.3569\n",
            "eps=1.0, min_samples=5 -> F1=0.3118\n",
            "eps=1.0, min_samples=10 -> F1=0.3774\n",
            "eps=1.0, min_samples=20 -> F1=0.4294\n",
            "eps=1.3, min_samples=5 -> F1=0.1815\n",
            "eps=1.3, min_samples=10 -> F1=0.2405\n",
            "eps=1.3, min_samples=20 -> F1=0.3039\n"
          ]
        }
      ]
    },
    {
      "cell_type": "markdown",
      "source": [
        "Se realizó una calibración de hiperparametros del algoritmo DBSCAN, variando los valores de eps y min_samples para analizar cómo afectan el desempeño del modelo en la detección de frames anómalos. En los resultados se puede ver que el rendimiento varía significativamente según la configuración: valores de eps muy bajos o muy altos tiende a empeorar el desempeño, caso contrario con configuraciones intermedias logran un mejor equilibrio.\n",
        "\n",
        "El mejor resultado se obtuvo con eps = 1.0 y min_samples = 20, alcanzando un F1-score de 0,43, lo que indica una mejora para distinguir entre frames normales o anómalos.\n"
      ],
      "metadata": {
        "id": "peIM68ka_8mW"
      }
    },
    {
      "cell_type": "code",
      "source": [
        "from sklearn.cluster import DBSCAN\n",
        "from sklearn.metrics import classification_report, f1_score\n",
        "import numpy as np\n",
        "\n",
        "dbscan = DBSCAN(eps=1.0, min_samples=35, n_jobs=-1)\n",
        "dbscan.fit(X_pca)\n",
        "y_pred = (dbscan.labels_ == -1).astype(int)\n",
        "\n",
        "y_true = y.values\n",
        "\n",
        "print(classification_report(y_true, y_pred))\n",
        "print(f\"F1-score: {f1_score(y_true, y_pred):.4f}\")\n",
        "\n",
        "print(f\"Clusters encontrados: {len(set(dbscan.labels_)) - (1 if -1 in dbscan.labels_ else 0)}\")\n",
        "print(f\"Anomalías detectadas: {sum(y_pred)} de {len(y_pred)} muestras\")\n"
      ],
      "metadata": {
        "colab": {
          "base_uri": "https://localhost:8080/"
        },
        "id": "czQqcgzqEuHs",
        "outputId": "a7e8530f-4927-483f-fd5c-1e1819ae7769"
      },
      "execution_count": 6,
      "outputs": [
        {
          "output_type": "stream",
          "name": "stdout",
          "text": [
            "              precision    recall  f1-score   support\n",
            "\n",
            "           0       0.95      0.76      0.85    383325\n",
            "           1       0.32      0.72      0.44     58897\n",
            "\n",
            "    accuracy                           0.76    442222\n",
            "   macro avg       0.63      0.74      0.64    442222\n",
            "weighted avg       0.86      0.76      0.79    442222\n",
            "\n",
            "F1-score: 0.4403\n",
            "Clusters encontrados: 173\n",
            "Anomalías detectadas: 132549 de 442222 muestras\n"
          ]
        }
      ]
    },
    {
      "cell_type": "code",
      "source": [
        "from sklearn.metrics import confusion_matrix\n",
        "import seaborn as sns\n",
        "import matplotlib.pyplot as plt\n",
        "\n",
        "cm = confusion_matrix(y_true, y_pred)\n",
        "\n",
        "plt.figure(figsize=(6, 5))\n",
        "sns.heatmap(cm, annot=True, fmt='d', cmap='Blues',\n",
        "            xticklabels=['Normal', 'Anómalo'],\n",
        "            yticklabels=['Normal', 'Anómalo'])\n",
        "plt.xlabel('Predicción')\n",
        "plt.ylabel('Real')\n",
        "plt.title('Matriz de Confusión - DBSCAN')\n",
        "plt.show()\n"
      ],
      "metadata": {
        "colab": {
          "base_uri": "https://localhost:8080/",
          "height": 487
        },
        "id": "ZMVYwffjnQIl",
        "outputId": "2b09bced-42f4-4e5b-e4b8-c1407bc78261"
      },
      "execution_count": 8,
      "outputs": [
        {
          "output_type": "display_data",
          "data": {
            "text/plain": [
              "<Figure size 600x500 with 2 Axes>"
            ],
            "image/png": "[encoded data removed]"
          },
          "metadata": {}
        }
      ]
    },
    {
      "cell_type": "markdown",
      "source": [
        "## **Conclusiones de DBSCAN**\n",
        "A partir de los resultados anteriores se empezó fijando el valor de eps = 1.0 y variando el parámetro min_samples con el objetivo de mejorar el rendimiento del modelo. Este parámetro controla cuántos puntos se necesitan para formar un clúster, por lo que ajustar su valor permite modificar la sensibilidad del algoritmo frente a las regiones densas o dispersas de los datos.\n",
        "El mejor resultado se obtuvo con min_samples = 35, alcanzando un F1-score de 0,44 y un recall de 0,72, luego de haber probado desde el valor 20 hasta el 50 pero por la falta de memoria su tuvo que realizar manualmente.\n",
        "\n",
        "Esto sugiere que el algoritmo DBSCAN es capaz de adaptarse de manera más efectiva cuando se ajusta cuidadosamente la densidad mínima requerida, aunque aún enfrenta limitaciones debido al fuerte desbalance y la complejidad intrínseca del dataset de videovigilancia.\n"
      ],
      "metadata": {
        "id": "YtDB0N2oACn_"
      }
    },
    {
      "cell_type": "markdown",
      "source": [
        "## **Conclusiones del Algoritmo No supervisado**\n",
        "\n",
        "Luego de haber aplicado dos de los mejores algoritmos no supervisados centrados en la detección de anomalías, Isolation Forest y DBSCAN. Ambos permitieron evaluar el comportamiento del dataset sin necesidad de etiquetas en el entrenamiento, lo que es útil en escenarios donde no se dispone de datos previamente clasificados.\n",
        "\n",
        "Ahora hablando de cada uno de los modelos, Isolation Forest mostró un desempeño moderado, logrando identificar una cantidad razonable de frames anómalos, aunque con un recall bajo, lo que indica que muchos eventos pasaron desapercibidos. Lo que sugiere que el algoritmo no logró aislar correctamente los puntos fuera del comportamiento normal y se pudo comprobar que fue más por el desbalance de clases, ya que al equilibrar el dataset se pudo comprobar una mejora considerable en la detección de anomalías.\n",
        "\n",
        "En el caso de DBSCAN se pudo obtener un mejor F1-score (0,44) y un recall mucho más alto siendo capaz de identificar una mayor proporción de anomalías reales, aunque con el costo de contar con un número de falsas alarmas. Aún así, este comportamiento puede considerarse aceptable en un sistema de vigilancia, donde es preferible recibir algunas alertas de más antes que dejar pasar una anomalía crítica sin detectar.\n",
        "\n",
        "Por ende, el mejor modelo que se pudo adaptar fue DBSCAN, pero si el dataset creado mediante YOLO hubiera habido un balance de clases decente (2:1) los dos modelos hubieran sido decentes para este caso de uso.\n"
      ],
      "metadata": {
        "id": "Fchk_v1XAVdW"
      }
    }
  ]
}